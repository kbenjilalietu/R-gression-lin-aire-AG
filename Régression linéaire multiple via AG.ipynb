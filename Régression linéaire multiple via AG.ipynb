{
 "cells": [
  {
   "cell_type": "markdown",
   "metadata": {},
   "source": [
    "# Déscription de proplématique : \n",
    "\n",
    "Prédire l'admission d'un élève ingénieur dans le programme de Double diplôme ingénieur à l'étranger à partir des paramètres importants\n",
    "\n",
    "Contenu : \n",
    "L'ensemble de données contient plusieurs paramètres considérés comme importants lors de la candidature aux programmes de double diplôme ingénieur\n",
    "Les paramètres inclus sont :\n",
    "- Score TOEIC (sur 340)\n",
    "- Scores DELF (sur 120)\n",
    "- Note de l'université (sur 5)\n",
    "- Force de déclaration d'intention et lettre de recommandation (sur 5)\n",
    "- Note de cycle ingénieur (sur 10)\n",
    "- Expérience de recherche ( soit 0 ou 1 )\n",
    "- Chance d'admission (allant de 0 à 1)"
   ]
  },
  {
   "cell_type": "markdown",
   "metadata": {},
   "source": [
    "### chargement de bibliothéques "
   ]
  },
  {
   "cell_type": "code",
   "execution_count": 59,
   "metadata": {},
   "outputs": [],
   "source": [
    "#import necessary liraries to work with\n",
    "import random\n",
    "import numpy as np\n",
    "import pandas as pd\n",
    "import matplotlib.pyplot as plt\n",
    "from sklearn import metrics\n",
    "from sklearn.model_selection import cross_val_score\n",
    "from sklearn.linear_model import LinearRegression\n",
    "from sklearn.model_selection import train_test_split"
   ]
  },
  {
   "cell_type": "markdown",
   "metadata": {},
   "source": [
    "### Chargement du jeu de données"
   ]
  },
  {
   "cell_type": "code",
   "execution_count": 60,
   "metadata": {},
   "outputs": [
    {
     "data": {
      "text/plain": [
       "Index(['Serial No.', 'TOEIC Score', 'DELF Score', 'Classement universitaire',\n",
       "       'Declaration intention', 'Recommandation lettre', 'Note cycle',\n",
       "       'Recherche', 'Chance admission'],\n",
       "      dtype='object')"
      ]
     },
     "execution_count": 60,
     "metadata": {},
     "output_type": "execute_result"
    }
   ],
   "source": [
    "data=pd.read_csv('Admission_Predict.csv')\n",
    "#afficher les variables\n",
    "data.columns"
   ]
  },
  {
   "cell_type": "code",
   "execution_count": 61,
   "metadata": {},
   "outputs": [],
   "source": [
    "#selection de la première colonne de notre dataset (la taille de la population)\n",
    "X = df.iloc[0:len(df),0]\n",
    "#selection de deuxième colonnes de notre dataset (le profit effectué)\n",
    "Y = df.iloc[0:len(df),1] "
   ]
  },
  {
   "cell_type": "markdown",
   "metadata": {},
   "source": [
    "### Visualisation du jeu de données"
   ]
  },
  {
   "cell_type": "code",
   "execution_count": 62,
   "metadata": {},
   "outputs": [
    {
     "data": {
      "image/png": "[encoded data removed]",
      "text/plain": [
       "<Figure size 432x288 with 1 Axes>"
      ]
     },
     "metadata": {
      "needs_background": "light"
     },
     "output_type": "display_data"
    }
   ],
   "source": [
    "axes = plt.axes()\n",
    "axes.grid() # dessiner une grille pour une meilleur lisibilité du graphe\n",
    "plt.scatter(X,Y) # X et Y sont les variables qu'on a extraite dans le paragraphe précédent\n",
    "plt.show()"
   ]
  },
  {
   "cell_type": "code",
   "execution_count": 63,
   "metadata": {},
   "outputs": [],
   "source": [
    "#seed fixing\n",
    "SEED = 2018\n",
    "random.seed(SEED)\n",
    "np.random.seed(SEED)"
   ]
  },
  {
   "cell_type": "code",
   "execution_count": 64,
   "metadata": {},
   "outputs": [],
   "source": [
    "#échantillonnage de données\n",
    "\n",
    "train, test = train_test_split(data, test_size=0.2)\n",
    "\n",
    "X=data[['Serial No.','TOEIC Score','DELF Score','Classement universitaire','Declaration intention','Recommandation lettre','Note cycle','Recherche'\n",
    "]].values\n",
    "y=data['Chance admission'].values\n",
    "\n",
    "estimator_f = LinearRegression()"
   ]
  },
  {
   "cell_type": "code",
   "execution_count": 65,
   "metadata": {},
   "outputs": [],
   "source": [
    "X_train, X_test, y_train, y_test = train_test_split(X, y, test_size=0.2, random_state=0)"
   ]
  },
  {
   "cell_type": "code",
   "execution_count": 66,
   "metadata": {},
   "outputs": [
    {
     "data": {
      "text/plain": [
       "LinearRegression()"
      ]
     },
     "execution_count": 66,
     "metadata": {},
     "output_type": "execute_result"
    }
   ],
   "source": [
    "regressor = LinearRegression()  \n",
    "regressor.fit(X_train, y_train)"
   ]
  },
  {
   "cell_type": "code",
   "execution_count": 67,
   "metadata": {},
   "outputs": [
    {
     "data": {
      "text/plain": [
       "array([0.69274573, 0.7162844 , 0.79941252, 0.61382844, 0.72412844,\n",
       "       0.57724345, 0.69870221, 0.65305302, 0.85967181, 0.92208853,\n",
       "       0.50741235, 0.87777388, 0.69576844, 0.48003146, 0.82596866,\n",
       "       0.59565583, 0.63612398, 0.79850128, 0.58499028, 0.7307459 ,\n",
       "       0.8786028 , 0.8559767 , 0.64900472, 0.47743531, 0.78607991,\n",
       "       0.60253488, 0.48121579, 0.61628425, 0.91027272, 0.63613885,\n",
       "       0.63020528, 0.7557007 , 0.76839541, 0.5561474 , 0.76461587,\n",
       "       0.75237249, 0.63895412, 0.85786512, 0.62587771, 0.96140491,\n",
       "       0.71247318, 0.68578127, 0.68249048, 0.77665142, 0.84269291,\n",
       "       0.63840207, 0.59141106, 0.70924876, 0.5980027 , 0.60045941,\n",
       "       0.67382167, 0.78571075, 0.65927066, 0.8826041 , 0.73344715,\n",
       "       0.77032863, 0.70188829, 0.70511474, 0.73998397, 0.81268997,\n",
       "       0.74512167, 0.47570513, 0.60011772, 0.5445201 , 0.84399797,\n",
       "       0.84187797, 0.72356766, 0.84411964, 0.75646874, 0.76426218,\n",
       "       0.56701231, 0.84379017, 0.80029522, 0.58786428, 0.915287  ,\n",
       "       0.61009641, 0.65539763, 0.65692288, 0.93229797, 0.53046687])"
      ]
     },
     "execution_count": 67,
     "metadata": {},
     "output_type": "execute_result"
    }
   ],
   "source": [
    "y_pred = regressor.predict(X_test)\n",
    "y_pred"
   ]
  },
  {
   "cell_type": "code",
   "execution_count": 68,
   "metadata": {},
   "outputs": [],
   "source": [
    "df = pd.DataFrame({'Actuel': y_test, 'Prédite': y_pred})\n",
    "df1 = df.head(25)"
   ]
  },
  {
   "cell_type": "code",
   "execution_count": 69,
   "metadata": {},
   "outputs": [
    {
     "data": {
      "text/html": [
       "<div>\n",
       "<style scoped>\n",
       "    .dataframe tbody tr th:only-of-type {\n",
       "        vertical-align: middle;\n",
       "    }\n",
       "\n",
       "    .dataframe tbody tr th {\n",
       "        vertical-align: top;\n",
       "    }\n",
       "\n",
       "    .dataframe thead th {\n",
       "        text-align: right;\n",
       "    }\n",
       "</style>\n",
       "<table border=\"1\" class=\"dataframe\">\n",
       "  <thead>\n",
       "    <tr style=\"text-align: right;\">\n",
       "      <th></th>\n",
       "      <th>Actuel</th>\n",
       "      <th>Prédite</th>\n",
       "    </tr>\n",
       "  </thead>\n",
       "  <tbody>\n",
       "    <tr>\n",
       "      <th>0</th>\n",
       "      <td>0.71</td>\n",
       "      <td>0.692746</td>\n",
       "    </tr>\n",
       "    <tr>\n",
       "      <th>1</th>\n",
       "      <td>0.70</td>\n",
       "      <td>0.716284</td>\n",
       "    </tr>\n",
       "    <tr>\n",
       "      <th>2</th>\n",
       "      <td>0.79</td>\n",
       "      <td>0.799413</td>\n",
       "    </tr>\n",
       "    <tr>\n",
       "      <th>3</th>\n",
       "      <td>0.73</td>\n",
       "      <td>0.613828</td>\n",
       "    </tr>\n",
       "    <tr>\n",
       "      <th>4</th>\n",
       "      <td>0.72</td>\n",
       "      <td>0.724128</td>\n",
       "    </tr>\n",
       "    <tr>\n",
       "      <th>5</th>\n",
       "      <td>0.48</td>\n",
       "      <td>0.577243</td>\n",
       "    </tr>\n",
       "    <tr>\n",
       "      <th>6</th>\n",
       "      <td>0.77</td>\n",
       "      <td>0.698702</td>\n",
       "    </tr>\n",
       "    <tr>\n",
       "      <th>7</th>\n",
       "      <td>0.71</td>\n",
       "      <td>0.653053</td>\n",
       "    </tr>\n",
       "    <tr>\n",
       "      <th>8</th>\n",
       "      <td>0.90</td>\n",
       "      <td>0.859672</td>\n",
       "    </tr>\n",
       "    <tr>\n",
       "      <th>9</th>\n",
       "      <td>0.94</td>\n",
       "      <td>0.922089</td>\n",
       "    </tr>\n",
       "    <tr>\n",
       "      <th>10</th>\n",
       "      <td>0.58</td>\n",
       "      <td>0.507412</td>\n",
       "    </tr>\n",
       "    <tr>\n",
       "      <th>11</th>\n",
       "      <td>0.89</td>\n",
       "      <td>0.877774</td>\n",
       "    </tr>\n",
       "    <tr>\n",
       "      <th>12</th>\n",
       "      <td>0.72</td>\n",
       "      <td>0.695768</td>\n",
       "    </tr>\n",
       "    <tr>\n",
       "      <th>13</th>\n",
       "      <td>0.57</td>\n",
       "      <td>0.480031</td>\n",
       "    </tr>\n",
       "    <tr>\n",
       "      <th>14</th>\n",
       "      <td>0.78</td>\n",
       "      <td>0.825969</td>\n",
       "    </tr>\n",
       "    <tr>\n",
       "      <th>15</th>\n",
       "      <td>0.42</td>\n",
       "      <td>0.595656</td>\n",
       "    </tr>\n",
       "    <tr>\n",
       "      <th>16</th>\n",
       "      <td>0.64</td>\n",
       "      <td>0.636124</td>\n",
       "    </tr>\n",
       "    <tr>\n",
       "      <th>17</th>\n",
       "      <td>0.84</td>\n",
       "      <td>0.798501</td>\n",
       "    </tr>\n",
       "    <tr>\n",
       "      <th>18</th>\n",
       "      <td>0.63</td>\n",
       "      <td>0.584990</td>\n",
       "    </tr>\n",
       "    <tr>\n",
       "      <th>19</th>\n",
       "      <td>0.72</td>\n",
       "      <td>0.730746</td>\n",
       "    </tr>\n",
       "  </tbody>\n",
       "</table>\n",
       "</div>"
      ],
      "text/plain": [
       "    Actuel   Prédite\n",
       "0     0.71  0.692746\n",
       "1     0.70  0.716284\n",
       "2     0.79  0.799413\n",
       "3     0.73  0.613828\n",
       "4     0.72  0.724128\n",
       "5     0.48  0.577243\n",
       "6     0.77  0.698702\n",
       "7     0.71  0.653053\n",
       "8     0.90  0.859672\n",
       "9     0.94  0.922089\n",
       "10    0.58  0.507412\n",
       "11    0.89  0.877774\n",
       "12    0.72  0.695768\n",
       "13    0.57  0.480031\n",
       "14    0.78  0.825969\n",
       "15    0.42  0.595656\n",
       "16    0.64  0.636124\n",
       "17    0.84  0.798501\n",
       "18    0.63  0.584990\n",
       "19    0.72  0.730746"
      ]
     },
     "execution_count": 69,
     "metadata": {},
     "output_type": "execute_result"
    }
   ],
   "source": [
    "df.head(20)"
   ]
  },
  {
   "cell_type": "code",
   "execution_count": 70,
   "metadata": {},
   "outputs": [
    {
     "data": {
      "image/png": "[encoded data removed]",
      "text/plain": [
       "<Figure size 720x576 with 1 Axes>"
      ]
     },
     "metadata": {
      "needs_background": "light"
     },
     "output_type": "display_data"
    }
   ],
   "source": [
    "df1.plot(kind='bar',figsize=(10,8))\n",
    "plt.grid(which='major', linestyle='-', linewidth='0.5', color='green')\n",
    "plt.grid(which='minor', linestyle=':', linewidth='0.5', color='black')\n",
    "plt.show()"
   ]
  },
  {
   "cell_type": "code",
   "execution_count": 71,
   "metadata": {
    "scrolled": true
   },
   "outputs": [
    {
     "name": "stdout",
     "output_type": "stream",
     "text": [
      "Erreur quadratique moyenne: 0.06610294158119619\n"
     ]
    }
   ],
   "source": [
    "print('Erreur quadratique moyenne:', np.sqrt(metrics.mean_squared_error(y_test, y_pred)))"
   ]
  },
  {
   "cell_type": "markdown",
   "metadata": {},
   "source": [
    "### Implémentation de l’algorithme génétique"
   ]
  },
  {
   "cell_type": "code",
   "execution_count": 72,
   "metadata": {},
   "outputs": [],
   "source": [
    "class GeneticSelector():\n",
    "    def __init__(self, estimator, generation, size, best, random, \n",
    "                 children, mutation_r):\n",
    "        # Estimateur\n",
    "        self.estimator = estimator\n",
    "        # Nombre de générations\n",
    "        self.generation = generation\n",
    "        # Nombre de chromosomes dans la population\n",
    "        self.size = size\n",
    "        # Nombre de meilleurs chromosomes à sélectionner\n",
    "        self.best = best\n",
    "        # Nombre de chromosomes aléatoires à sélectionner\n",
    "        self.random = random\n",
    "        # Nombre d'enfants créés lors du croisement\n",
    "        self.children = children\n",
    "        # Pprobabilité de mutation chromosomique\n",
    "        self.mutation_r = mutation_r\n",
    "        \n",
    "        if int((self.best + self.random) / 2) * self.children != self.size:\n",
    "            raise ValueError(\"La taille de la population n'est pas stable.\")  \n",
    "            \n",
    "    def initilize(self):\n",
    "        population = []\n",
    "        for i in range(self.size):\n",
    "            chromosome = np.ones(self.n_features, dtype=np.bool)\n",
    "            mask = np.random.rand(len(chromosome)) < 0.3\n",
    "            chromosome[mask] = False\n",
    "            population.append(chromosome)\n",
    "        return population\n",
    "\n",
    "    def fitness(self, population):\n",
    "        X, y = self.dataset\n",
    "        scores = []\n",
    "        for chromosome in population:\n",
    "            score = -1.0 * np.mean(cross_val_score(self.estimator, X[:,chromosome], y, \n",
    "                                                       cv=5, \n",
    "                                                       scoring=\"neg_mean_squared_error\"))\n",
    "            scores.append(score)\n",
    "        scores, population = np.array(scores), np.array(population) \n",
    "        inds = np.argsort(scores)\n",
    "        return list(scores[inds]), list(population[inds,:])\n",
    "\n",
    "    def select(self, population_sorted):\n",
    "        population_next = []\n",
    "        for i in range(self.best):\n",
    "            population_next.append(population_sorted[i])\n",
    "        for i in range(self.random):\n",
    "            population_next.append(random.choice(population_sorted))\n",
    "        random.shuffle(population_next)\n",
    "        return population_next\n",
    "\n",
    "    def crossover(self, population):\n",
    "        population_next = []\n",
    "        for i in range(int(len(population)/2)):\n",
    "            for j in range(self.children):\n",
    "                chromosome1, chromosome2 = population[i], population[len(population)-1-i]\n",
    "                child = chromosome1\n",
    "                mask = np.random.rand(len(child)) > 0.5\n",
    "                child[mask] = chromosome2[mask]\n",
    "                population_next.append(child)\n",
    "        return population_next\n",
    "\t\n",
    "    def mutate(self, population):\n",
    "        population_next = []\n",
    "        for i in range(len(population)):\n",
    "            chromosome = population[i]\n",
    "            if random.random() < self.mutation_r:\n",
    "                mask = np.random.rand(len(chromosome)) < 0.05\n",
    "                chromosome[mask] = False\n",
    "            population_next.append(chromosome)\n",
    "        return population_next\n",
    "\n",
    "    def generate(self, population):\n",
    "       # Sélection, croisement et mutation\n",
    "        scores_sorted, population_sorted = self.fitness(population)\n",
    "        population = self.select(population_sorted)\n",
    "        population = self.crossover(population)\n",
    "        population = self.mutate(population)\n",
    "        self.chromosomes_best.append(population_sorted[0])\n",
    "        self.scores_best.append(scores_sorted[0])\n",
    "        self.scores_avg.append(np.mean(scores_sorted))\n",
    "        \n",
    "        return population\n",
    "\n",
    "    def fit(self, X, y):\n",
    " \n",
    "        self.chromosomes_best = []\n",
    "        self.scores_best, self.scores_avg  = [], []\n",
    "        \n",
    "        self.dataset = X, y\n",
    "        self.n_features = X.shape[1]\n",
    "        \n",
    "        population = self.initilize()\n",
    "        for i in range(self.generation):\n",
    "            population = self.generate(population)\n",
    "            \n",
    "        return self \n",
    "    \n",
    "    @property\n",
    "    def support_(self):\n",
    "        return self.chromosomes_best[-1]\n",
    "\n",
    "    def plot_scores(self):\n",
    "        plt.plot(self.scores_best, label='Best')\n",
    "        plt.plot(self.scores_avg, label='Average')\n",
    "        plt.legend()\n",
    "        plt.ylabel('Scores')\n",
    "        plt.xlabel('Generation')\n",
    "        plt.show()"
   ]
  },
  {
   "cell_type": "code",
   "execution_count": 80,
   "metadata": {},
   "outputs": [
    {
     "name": "stderr",
     "output_type": "stream",
     "text": [
      "C:\\Users\\dell\\AppData\\Local\\Temp/ipykernel_19060/3793900353.py:25: DeprecationWarning: `np.bool` is a deprecated alias for the builtin `bool`. To silence this warning, use `bool` by itself. Doing this will not modify any behavior and is safe. If you specifically wanted the numpy scalar type, use `np.bool_` here.\n",
      "Deprecated in NumPy 1.20; for more details and guidance: https://numpy.org/devdocs/release/1.20.0-notes.html#deprecations\n",
      "  chromosome = np.ones(self.n_features, dtype=np.bool)\n"
     ]
    },
    {
     "data": {
      "image/png": "[encoded data removed]",
      "text/plain": [
       "<Figure size 432x288 with 1 Axes>"
      ]
     },
     "metadata": {
      "needs_background": "light"
     },
     "output_type": "display_data"
    }
   ],
   "source": [
    "\n",
    "selector = GeneticSelector(estimator=LinearRegression(), \n",
    "                      generation=4, size=200, best=40, random=40, \n",
    "                      children=5, mutation_r=0.05)\n",
    "selector.fit(X_train, y_train)\n",
    "selector.plot_scores()\n"
   ]
  },
  {
   "cell_type": "code",
   "execution_count": null,
   "metadata": {},
   "outputs": [],
   "source": []
  }
 ],
 "metadata": {
  "kernelspec": {
   "display_name": "Python 3 (ipykernel)",
   "language": "python",
   "name": "python3"
  },
  "language_info": {
   "codemirror_mode": {
    "name": "ipython",
    "version": 3
   },
   "file_extension": ".py",
   "mimetype": "text/x-python",
   "name": "python",
   "nbconvert_exporter": "python",
   "pygments_lexer": "ipython3",
   "version": "3.9.7"
  }
 },
 "nbformat": 4,
 "nbformat_minor": 2
}
